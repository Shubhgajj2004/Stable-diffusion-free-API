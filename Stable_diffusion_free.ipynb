#Import all necessary files
import urllib.request
from PIL import Image
import requests
import json



#Write description for you

API_URL = "https://api-inference.huggingface.co/models/Gustavosta/MagicPrompt-Stable-Diffusion"
headers = {"Authorization": f"Bearer <Your Api>"}  #Replace entire <Your Api> with your api token. You can get from https://huggingface.co/

def query(payload):
	response = requests.post(API_URL, headers=headers, json=payload)
	return response.json()
	
output = query({
	"inputs": "An ultra detailed photo portrait of a beautiful blonde woman in a red gala dress. 150mm, hyperdetailed face, realistic skin, stunning, elegant, vibrant colors ",
})

magicPrompt=output[0].get('generated_text')





#Generates the image using Lightning.Ai muse api

response = requests.post("https://ulhcn-01gd3c9epmk5xj2y9a9jrrvgt8.litng-ai-03.litng.ai/api/predict", json={
  "prompt": magicPrompt,
  "high_quality": "true"
})




#Fetch JSON file and save as Ai.png file
imgUrl = response.json()['image']

urllib.request.urlretrieve(
  imgUrl,
   "Ai.png")
  
img = Image.open("Ai.png")


#Show image
img
