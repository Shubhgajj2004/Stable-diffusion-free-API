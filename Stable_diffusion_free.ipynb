{
  "cells": [
    {
      "cell_type": "code",
      "execution_count": null,
      "metadata": {
        "id": "Y7fy4RORzqiT"
      },
      "outputs": [],
      "source": [
        "#Import all necessary files\n",
        "import urllib.request\n",
        "from PIL import Image\n",
        "import requests\n",
        "import json"
      ]
    },
    {
      "cell_type": "code",
      "execution_count": null,
      "metadata": {
        "colab": {
          "background_save": true,
          "base_uri": "https://localhost:8080/"
        },
        "id": "HB07kTtZyFRj",
        "outputId": "a6797f97-0125-4c4c-b89f-3c6a7b62bc60"
      },
      "outputs": [],
      "source": [
        "#Write description for you\n",
        "API_URL = \"https://api-inference.huggingface.co/models/Gustavosta/MagicPrompt-Stable-Diffusion\"\n",
        "headers = {\"Authorization\": f\"Bearer <Your Api>\"}  #Replace entire <Your Api> with your api token. You can get from https://huggingface.co/\n",
        "\n",
        "def query(payload):\n",
        "\tresponse = requests.post(API_URL, headers=headers, json=payload)\n",
        "\treturn response.json()\n",
        "\t\n",
        "output = query({\n",
        "\t\"inputs\": \"Rabit with carrot in forest \",\n",
        "})\n",
        "\n",
        "magicPrompt=output[0].get('generated_text')\n",
        "output\n",
        "\n"
      ]
    },
    {
      "cell_type": "code",
      "execution_count": null,
      "metadata": {
        "colab": {
          "background_save": true
        },
        "id": "LeWVsjVKGKon"
      },
      "outputs": [],
      "source": [
        "#Generates the image using Lightning.Ai muse api\n",
        "response = requests.post(\"https://esmqs-01gxh6tcz3gcas7xgr43pjhr5n.litng-ai-03.litng.ai/api/predict\", json={\n",
        "  \"prompt\": magicPrompt,\n",
        "  \"high_quality\": \"true\"\n",
        "})"
      ]
    },
    {
      "cell_type": "code",
      "execution_count": null,
      "metadata": {
        "colab": {
          "background_save": true,
          "base_uri": "https://localhost:8080/",
          "height": 529
        },
        "id": "ScDuTwafzhgr",
        "outputId": "63dd15a6-1dc2-4b73-88ab-04bed5d0c886"
      },
      "outputs": [],
      "source": [
        "imgUrl = response.json()['image']\n",
        "\n",
        "urllib.request.urlretrieve(\n",
        "  imgUrl,\n",
        "   \"Ai.png\")\n",
        "  \n",
        "img = Image.open(\"Ai.png\")\n",
        "img"
      ]
    }
  ],
  "metadata": {
    "colab": {
      "provenance": []
    },
    "kernelspec": {
      "display_name": "Python 3",
      "name": "python3"
    },
    "language_info": {
      "name": "python"
    }
  },
  "nbformat": 4,
  "nbformat_minor": 0
}
